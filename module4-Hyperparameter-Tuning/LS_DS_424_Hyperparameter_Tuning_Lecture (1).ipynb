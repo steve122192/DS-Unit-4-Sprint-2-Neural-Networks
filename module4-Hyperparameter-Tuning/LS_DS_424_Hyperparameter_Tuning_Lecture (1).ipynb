{
 "cells": [
  {
   "cell_type": "markdown",
   "metadata": {
    "colab_type": "text",
    "id": "41TS0Sa0rDNx"
   },
   "source": [
    "Lambda School Data Science\n",
    "\n",
    "*Unit 4, Sprint 2, Module 4*\n",
    "\n",
    "---"
   ]
  },
  {
   "cell_type": "markdown",
   "metadata": {
    "colab_type": "text",
    "id": "41TS0Sa0rDNx"
   },
   "source": [
    "# Neural Networks Hyperparameter Tuning (Prepare)"
   ]
  },
  {
   "cell_type": "markdown",
   "metadata": {
    "colab_type": "text",
    "id": "41TS0Sa0rDNx"
   },
   "source": [
    "## Learning Objectives\n",
    "* <a href=\"#p1\">Part 1</a>: Describe the major hyperparemeters to tune\n",
    "* <a href=\"#p2\">Part 2</a>: Implement an experiment tracking framework"
   ]
  },
  {
   "cell_type": "code",
   "execution_count": 15,
   "metadata": {},
   "outputs": [],
   "source": [
    "wandb_group = \"ds8\"\n",
    "wandb_project = \"ds11_inclass\""
   ]
  },
  {
   "cell_type": "markdown",
   "metadata": {},
   "source": [
    "# Hyperparameter Options (Learn)\n",
    "<a id=\"p1\"></a>"
   ]
  },
  {
   "cell_type": "markdown",
   "metadata": {},
   "source": [
    "## Overview\n",
    "\n",
    "Hyperparameter tuning is much more important with neural networks than it has been with any other models that we have considered up to this point. Other supervised learning models might have a couple of parameters, but neural networks can have dozens. These can substantially affect the accuracy of our models and although it can be a time consuming process is a necessary step when working with neural networks.\n",
    "​\n",
    "Hyperparameter tuning comes with a challenge. How can we compare models specified with different hyperparameters if our model's final error metric can vary somewhat erratically? How do we avoid just getting unlucky and selecting the wrong hyperparameter? This is a problem that to a certain degree we just have to live with as we test and test again. However, we can minimize it somewhat by pairing our experiments with Cross Validation to reduce the variance of our final accuracy values."
   ]
  },
  {
   "cell_type": "markdown",
   "metadata": {
    "colab_type": "text",
    "id": "0s0o2pqBs88q"
   },
   "source": [
    "### Load Boston Housing Data"
   ]
  },
  {
   "cell_type": "code",
   "execution_count": 39,
   "metadata": {},
   "outputs": [],
   "source": [
    "from tensorflow.keras.datasets import boston_housing\n",
    "\n",
    "(x_train, y_train), (x_test, y_test) = boston_housing.load_data()"
   ]
  },
  {
   "cell_type": "markdown",
   "metadata": {
    "colab_type": "text",
    "id": "Pm7zow5IvaTt"
   },
   "source": [
    "### Normalizing Input Data\n",
    "\n",
    "It's not 100% necessary to normalize/scale your input data before feeding it to a neural network, the network can learn the appropriate weights to deal with data of as long as it is numerically represented,  but it is recommended as it can help **make training faster** and **reduces the chances that gradient descent might get stuck in a local optimum**.\n",
    "\n",
    "<https://stackoverflow.com/questions/4674623/why-do-we-have-to-normalize-the-input-for-an-artificial-neural-network>"
   ]
  },
  {
   "cell_type": "code",
   "execution_count": 40,
   "metadata": {},
   "outputs": [
    {
     "name": "stdout",
     "output_type": "stream",
     "text": [
      "[[-0.27224633 -0.48361547 -0.43576161 -0.25683275 -0.1652266  -0.1764426\n",
      "   0.81306188  0.1166983  -0.62624905 -0.59517003  1.14850044  0.44807713\n",
      "   0.8252202 ]\n",
      " [-0.40342651  2.99178419 -1.33391162 -0.25683275 -1.21518188  1.89434613\n",
      "  -1.91036058  1.24758524 -0.85646254 -0.34843254 -1.71818909  0.43190599\n",
      "  -1.32920239]\n",
      " [ 0.1249402  -0.48361547  1.0283258  -0.25683275  0.62864202 -1.82968811\n",
      "   1.11048828 -1.18743907  1.67588577  1.5652875   0.78447637  0.22061726\n",
      "  -1.30850006]\n",
      " [-0.40149354 -0.48361547 -0.86940196 -0.25683275 -0.3615597  -0.3245576\n",
      "  -1.23667187  1.10717989 -0.51114231 -1.094663    0.78447637  0.44807713\n",
      "  -0.65292624]\n",
      " [-0.0056343  -0.48361547  1.0283258  -0.25683275  1.32861221  0.15364225\n",
      "   0.69480801 -0.57857203  1.67588577  1.5652875   0.78447637  0.3898823\n",
      "   0.26349695]\n",
      " [-0.37502238 -0.48361547 -0.54747912 -0.25683275 -0.54935658 -0.78865126\n",
      "   0.18954148  0.48371503 -0.51114231 -0.71552978  0.51145832  0.38669063\n",
      "  -0.13812828]\n",
      " [ 0.58963463 -0.48361547  1.0283258  -0.25683275  1.21764133 -1.03127774\n",
      "   1.11048828 -1.06518235  1.67588577  1.5652875   0.78447637  0.44807713\n",
      "   1.49873604]\n",
      " [ 0.0381708  -0.48361547  1.24588095 -0.25683275  2.67733525 -1.12719983\n",
      "   1.11048828 -1.14833073 -0.51114231 -0.01744323 -1.71818909  0.44807713\n",
      "   1.88793986]\n",
      " [-0.17228416 -0.48361547  1.24588095 -0.25683275  2.67733525 -0.90150078\n",
      "   1.11048828 -1.09664657 -0.51114231 -0.01744323 -1.71818909 -1.97365769\n",
      "   0.53952803]\n",
      " [-0.22932104 -0.48361547  1.58544339 -0.25683275  0.56888847 -1.76056777\n",
      "   1.11048828 -1.13471925 -0.62624905  0.18716835  1.23950646  0.44807713\n",
      "   2.99068404]]\n"
     ]
    }
   ],
   "source": [
    "from sklearn.preprocessing import StandardScaler\n",
    "\n",
    "scaler = StandardScaler()\n",
    "\n",
    "x_train = scaler.fit_transform(x_train)\n",
    "x_test = scaler.transform(x_test)\n",
    "print(x_train[:10])"
   ]
  },
  {
   "cell_type": "code",
   "execution_count": 43,
   "metadata": {},
   "outputs": [
    {
     "name": "stdout",
     "output_type": "stream",
     "text": [
      "Train on 270 samples, validate on 134 samples\n",
      "Epoch 1/75\n",
      "270/270 [==============================] - 0s 1ms/sample - loss: 474.8640 - mse: 474.8639 - mae: 19.9649 - val_loss: 482.6322 - val_mse: 482.6321 - val_mae: 19.7377\n",
      "Epoch 2/75\n",
      "270/270 [==============================] - 0s 125us/sample - loss: 315.9333 - mse: 315.9333 - mae: 15.7535 - val_loss: 269.0023 - val_mse: 269.0023 - val_mae: 13.9566\n",
      "Epoch 3/75\n",
      "270/270 [==============================] - 0s 136us/sample - loss: 126.8630 - mse: 126.8630 - mae: 8.9629 - val_loss: 99.2566 - val_mse: 99.2566 - val_mae: 7.6046\n",
      "Epoch 4/75\n",
      "270/270 [==============================] - 0s 144us/sample - loss: 51.4519 - mse: 51.4519 - mae: 5.4583 - val_loss: 63.9416 - val_mse: 63.9416 - val_mae: 5.8921\n",
      "Epoch 5/75\n",
      "270/270 [==============================] - 0s 142us/sample - loss: 31.3332 - mse: 31.3332 - mae: 4.1790 - val_loss: 46.5782 - val_mse: 46.5782 - val_mae: 4.6389\n",
      "Epoch 6/75\n",
      "270/270 [==============================] - 0s 136us/sample - loss: 22.8801 - mse: 22.8801 - mae: 3.4634 - val_loss: 39.7109 - val_mse: 39.7109 - val_mae: 4.1009\n",
      "Epoch 7/75\n",
      "270/270 [==============================] - 0s 146us/sample - loss: 19.4590 - mse: 19.4590 - mae: 3.1492 - val_loss: 36.4107 - val_mse: 36.4107 - val_mae: 3.8142\n",
      "Epoch 8/75\n",
      "270/270 [==============================] - 0s 145us/sample - loss: 17.3931 - mse: 17.3931 - mae: 2.9796 - val_loss: 33.3516 - val_mse: 33.3516 - val_mae: 3.6424\n",
      "Epoch 9/75\n",
      "270/270 [==============================] - 0s 135us/sample - loss: 16.0165 - mse: 16.0165 - mae: 2.8583 - val_loss: 31.4026 - val_mse: 31.4026 - val_mae: 3.4912\n",
      "Epoch 10/75\n",
      "270/270 [==============================] - 0s 144us/sample - loss: 14.9245 - mse: 14.9245 - mae: 2.7535 - val_loss: 30.0086 - val_mse: 30.0086 - val_mae: 3.3882\n",
      "Epoch 11/75\n",
      "270/270 [==============================] - 0s 145us/sample - loss: 13.8430 - mse: 13.8430 - mae: 2.6795 - val_loss: 28.0669 - val_mse: 28.0669 - val_mae: 3.2836\n",
      "Epoch 12/75\n",
      "270/270 [==============================] - 0s 141us/sample - loss: 13.1496 - mse: 13.1496 - mae: 2.6048 - val_loss: 26.7237 - val_mse: 26.7237 - val_mae: 3.1876\n",
      "Epoch 13/75\n",
      "270/270 [==============================] - 0s 140us/sample - loss: 12.3075 - mse: 12.3075 - mae: 2.5239 - val_loss: 25.5884 - val_mse: 25.5884 - val_mae: 3.0858\n",
      "Epoch 14/75\n",
      "270/270 [==============================] - 0s 141us/sample - loss: 11.7096 - mse: 11.7096 - mae: 2.4764 - val_loss: 24.7249 - val_mse: 24.7249 - val_mae: 3.0534\n",
      "Epoch 15/75\n",
      "270/270 [==============================] - 0s 139us/sample - loss: 11.2604 - mse: 11.2604 - mae: 2.4295 - val_loss: 23.5054 - val_mse: 23.5054 - val_mae: 3.0161\n",
      "Epoch 16/75\n",
      "270/270 [==============================] - 0s 140us/sample - loss: 10.6636 - mse: 10.6636 - mae: 2.4075 - val_loss: 22.5881 - val_mse: 22.5881 - val_mae: 2.9162\n",
      "Epoch 17/75\n",
      "270/270 [==============================] - 0s 138us/sample - loss: 10.3349 - mse: 10.3349 - mae: 2.3315 - val_loss: 22.4438 - val_mse: 22.4438 - val_mae: 2.9190\n",
      "Epoch 18/75\n",
      "270/270 [==============================] - 0s 140us/sample - loss: 10.0960 - mse: 10.0960 - mae: 2.3610 - val_loss: 21.1365 - val_mse: 21.1365 - val_mae: 2.8393\n",
      "Epoch 19/75\n",
      "270/270 [==============================] - 0s 140us/sample - loss: 9.7460 - mse: 9.7460 - mae: 2.2854 - val_loss: 20.7911 - val_mse: 20.7911 - val_mae: 2.8472\n",
      "Epoch 20/75\n",
      "270/270 [==============================] - 0s 137us/sample - loss: 9.2973 - mse: 9.2973 - mae: 2.2277 - val_loss: 20.2048 - val_mse: 20.2048 - val_mae: 2.7862\n",
      "Epoch 21/75\n",
      "270/270 [==============================] - 0s 136us/sample - loss: 9.0596 - mse: 9.0596 - mae: 2.2021 - val_loss: 19.7396 - val_mse: 19.7396 - val_mae: 2.7867\n",
      "Epoch 22/75\n",
      "270/270 [==============================] - 0s 139us/sample - loss: 8.7050 - mse: 8.7050 - mae: 2.1776 - val_loss: 19.7721 - val_mse: 19.7721 - val_mae: 2.8160\n",
      "Epoch 23/75\n",
      "270/270 [==============================] - 0s 141us/sample - loss: 8.6541 - mse: 8.6541 - mae: 2.1452 - val_loss: 19.4030 - val_mse: 19.4030 - val_mae: 2.7633\n",
      "Epoch 24/75\n",
      "270/270 [==============================] - 0s 140us/sample - loss: 8.2860 - mse: 8.2860 - mae: 2.1185 - val_loss: 19.0291 - val_mse: 19.0291 - val_mae: 2.8212\n",
      "Epoch 25/75\n",
      "270/270 [==============================] - 0s 137us/sample - loss: 8.2497 - mse: 8.2497 - mae: 2.1295 - val_loss: 18.5260 - val_mse: 18.5260 - val_mae: 2.7661\n",
      "Epoch 26/75\n",
      "270/270 [==============================] - 0s 146us/sample - loss: 7.8116 - mse: 7.8116 - mae: 2.0812 - val_loss: 18.4201 - val_mse: 18.4201 - val_mae: 2.7861\n",
      "Epoch 27/75\n",
      "270/270 [==============================] - 0s 142us/sample - loss: 7.9228 - mse: 7.9228 - mae: 2.0707 - val_loss: 17.9253 - val_mse: 17.9253 - val_mae: 2.7123\n",
      "Epoch 28/75\n",
      "270/270 [==============================] - 0s 136us/sample - loss: 7.6389 - mse: 7.6389 - mae: 2.0573 - val_loss: 18.1194 - val_mse: 18.1194 - val_mae: 2.7793\n",
      "Epoch 29/75\n",
      "270/270 [==============================] - 0s 146us/sample - loss: 7.6065 - mse: 7.6065 - mae: 2.0661 - val_loss: 17.8510 - val_mse: 17.8510 - val_mae: 2.7363\n",
      "Epoch 30/75\n",
      "270/270 [==============================] - 0s 147us/sample - loss: 7.2413 - mse: 7.2413 - mae: 2.0069 - val_loss: 17.3523 - val_mse: 17.3523 - val_mae: 2.7183\n",
      "Epoch 31/75\n",
      "270/270 [==============================] - 0s 147us/sample - loss: 7.2518 - mse: 7.2518 - mae: 2.0061 - val_loss: 17.7551 - val_mse: 17.7551 - val_mae: 2.7483\n",
      "Epoch 32/75\n",
      "270/270 [==============================] - 0s 137us/sample - loss: 7.2870 - mse: 7.2870 - mae: 2.0038 - val_loss: 17.3116 - val_mse: 17.3116 - val_mae: 2.7670\n",
      "Epoch 33/75\n",
      "270/270 [==============================] - 0s 138us/sample - loss: 7.1476 - mse: 7.1476 - mae: 2.0256 - val_loss: 17.1054 - val_mse: 17.1054 - val_mae: 2.6960\n",
      "Epoch 34/75\n",
      "270/270 [==============================] - 0s 135us/sample - loss: 7.1102 - mse: 7.1102 - mae: 1.9517 - val_loss: 17.1563 - val_mse: 17.1563 - val_mae: 2.7311\n",
      "Epoch 35/75\n",
      "270/270 [==============================] - 0s 139us/sample - loss: 6.8428 - mse: 6.8428 - mae: 1.9549 - val_loss: 17.0464 - val_mse: 17.0464 - val_mae: 2.7081\n",
      "Epoch 36/75\n",
      "270/270 [==============================] - 0s 136us/sample - loss: 6.8723 - mse: 6.8723 - mae: 1.9350 - val_loss: 16.6036 - val_mse: 16.6036 - val_mae: 2.6781\n",
      "Epoch 37/75\n",
      "270/270 [==============================] - 0s 134us/sample - loss: 6.6964 - mse: 6.6964 - mae: 1.9569 - val_loss: 16.6854 - val_mse: 16.6854 - val_mae: 2.6837\n",
      "Epoch 38/75\n",
      "270/270 [==============================] - 0s 124us/sample - loss: 6.8859 - mse: 6.8859 - mae: 1.9489 - val_loss: 16.4434 - val_mse: 16.4434 - val_mae: 2.6752\n",
      "Epoch 39/75\n",
      "270/270 [==============================] - 0s 129us/sample - loss: 6.5651 - mse: 6.5651 - mae: 1.8985 - val_loss: 16.4780 - val_mse: 16.4780 - val_mae: 2.6773\n",
      "Epoch 40/75\n",
      "270/270 [==============================] - 0s 137us/sample - loss: 6.4328 - mse: 6.4328 - mae: 1.8835 - val_loss: 16.4445 - val_mse: 16.4445 - val_mae: 2.6741\n",
      "Epoch 41/75\n",
      "270/270 [==============================] - 0s 144us/sample - loss: 6.3482 - mse: 6.3482 - mae: 1.8962 - val_loss: 16.8655 - val_mse: 16.8655 - val_mae: 2.7406\n",
      "Epoch 42/75\n",
      "270/270 [==============================] - 0s 137us/sample - loss: 6.5712 - mse: 6.5712 - mae: 1.8797 - val_loss: 16.2429 - val_mse: 16.2429 - val_mae: 2.6630\n",
      "Epoch 43/75\n",
      "270/270 [==============================] - 0s 130us/sample - loss: 6.2324 - mse: 6.2324 - mae: 1.8493 - val_loss: 16.5400 - val_mse: 16.5400 - val_mae: 2.7012\n",
      "Epoch 44/75\n",
      "270/270 [==============================] - 0s 141us/sample - loss: 6.1750 - mse: 6.1750 - mae: 1.8569 - val_loss: 16.1447 - val_mse: 16.1447 - val_mae: 2.6395\n",
      "Epoch 45/75\n",
      "270/270 [==============================] - 0s 143us/sample - loss: 6.1465 - mse: 6.1465 - mae: 1.8320 - val_loss: 16.5969 - val_mse: 16.5969 - val_mae: 2.7289\n",
      "Epoch 46/75\n",
      "270/270 [==============================] - 0s 136us/sample - loss: 6.1626 - mse: 6.1626 - mae: 1.8330 - val_loss: 15.9995 - val_mse: 15.9995 - val_mae: 2.6531\n",
      "Epoch 47/75\n",
      "270/270 [==============================] - 0s 142us/sample - loss: 6.1753 - mse: 6.1753 - mae: 1.8418 - val_loss: 16.2092 - val_mse: 16.2092 - val_mae: 2.6736\n",
      "Epoch 48/75\n",
      "270/270 [==============================] - 0s 136us/sample - loss: 6.0414 - mse: 6.0414 - mae: 1.8166 - val_loss: 15.9820 - val_mse: 15.9820 - val_mae: 2.6325\n",
      "Epoch 49/75\n",
      "270/270 [==============================] - 0s 136us/sample - loss: 5.8678 - mse: 5.8678 - mae: 1.7729 - val_loss: 15.8019 - val_mse: 15.8019 - val_mae: 2.6320\n",
      "Epoch 50/75\n",
      "270/270 [==============================] - 0s 138us/sample - loss: 5.8225 - mse: 5.8225 - mae: 1.8032 - val_loss: 16.3861 - val_mse: 16.3861 - val_mae: 2.6944\n",
      "Epoch 51/75\n",
      "270/270 [==============================] - 0s 146us/sample - loss: 5.8036 - mse: 5.8036 - mae: 1.7714 - val_loss: 15.8674 - val_mse: 15.8674 - val_mae: 2.6574\n",
      "Epoch 52/75\n",
      "270/270 [==============================] - 0s 144us/sample - loss: 5.6937 - mse: 5.6937 - mae: 1.7698 - val_loss: 15.9608 - val_mse: 15.9608 - val_mae: 2.6496\n",
      "Epoch 53/75\n",
      "270/270 [==============================] - 0s 140us/sample - loss: 5.6742 - mse: 5.6742 - mae: 1.7383 - val_loss: 15.8967 - val_mse: 15.8967 - val_mae: 2.6411\n",
      "Epoch 54/75\n",
      "270/270 [==============================] - 0s 140us/sample - loss: 5.5469 - mse: 5.5469 - mae: 1.7650 - val_loss: 15.6862 - val_mse: 15.6862 - val_mae: 2.6222\n",
      "Epoch 55/75\n",
      "270/270 [==============================] - 0s 138us/sample - loss: 5.4609 - mse: 5.4609 - mae: 1.7095 - val_loss: 15.7272 - val_mse: 15.7272 - val_mae: 2.6324\n",
      "Epoch 56/75\n",
      "270/270 [==============================] - 0s 128us/sample - loss: 5.5820 - mse: 5.5820 - mae: 1.7459 - val_loss: 15.8448 - val_mse: 15.8448 - val_mae: 2.6441\n",
      "Epoch 57/75\n",
      "270/270 [==============================] - 0s 135us/sample - loss: 5.5852 - mse: 5.5852 - mae: 1.7345 - val_loss: 15.6457 - val_mse: 15.6457 - val_mae: 2.6348\n",
      "Epoch 58/75\n",
      "270/270 [==============================] - 0s 137us/sample - loss: 5.3231 - mse: 5.3231 - mae: 1.7059 - val_loss: 15.9289 - val_mse: 15.9289 - val_mae: 2.6391\n",
      "Epoch 59/75\n",
      "270/270 [==============================] - 0s 132us/sample - loss: 5.2989 - mse: 5.2989 - mae: 1.6926 - val_loss: 15.8561 - val_mse: 15.8561 - val_mae: 2.6195\n",
      "Epoch 60/75\n",
      "270/270 [==============================] - 0s 135us/sample - loss: 5.2188 - mse: 5.2188 - mae: 1.6614 - val_loss: 15.9897 - val_mse: 15.9897 - val_mae: 2.7045\n",
      "Epoch 61/75\n",
      "270/270 [==============================] - 0s 123us/sample - loss: 5.2875 - mse: 5.2875 - mae: 1.6978 - val_loss: 15.8581 - val_mse: 15.8581 - val_mae: 2.6622\n",
      "Epoch 62/75\n",
      "270/270 [==============================] - 0s 137us/sample - loss: 5.1341 - mse: 5.1341 - mae: 1.6616 - val_loss: 15.5257 - val_mse: 15.5257 - val_mae: 2.6045\n",
      "Epoch 63/75\n",
      "270/270 [==============================] - 0s 137us/sample - loss: 5.0557 - mse: 5.0557 - mae: 1.6585 - val_loss: 15.7371 - val_mse: 15.7371 - val_mae: 2.6289\n",
      "Epoch 64/75\n",
      "270/270 [==============================] - 0s 133us/sample - loss: 5.1710 - mse: 5.1710 - mae: 1.6822 - val_loss: 15.5386 - val_mse: 15.5386 - val_mae: 2.6103\n",
      "Epoch 65/75\n",
      "270/270 [==============================] - 0s 135us/sample - loss: 5.1413 - mse: 5.1413 - mae: 1.6547 - val_loss: 15.5900 - val_mse: 15.5900 - val_mae: 2.6010\n",
      "Epoch 66/75\n",
      "270/270 [==============================] - 0s 133us/sample - loss: 5.1057 - mse: 5.1057 - mae: 1.6516 - val_loss: 15.3919 - val_mse: 15.3919 - val_mae: 2.5942\n",
      "Epoch 67/75\n",
      "270/270 [==============================] - 0s 151us/sample - loss: 4.9314 - mse: 4.9314 - mae: 1.6155 - val_loss: 15.7232 - val_mse: 15.7232 - val_mae: 2.6625\n",
      "Epoch 68/75\n",
      "270/270 [==============================] - 0s 143us/sample - loss: 4.9019 - mse: 4.9019 - mae: 1.6273 - val_loss: 15.5184 - val_mse: 15.5184 - val_mae: 2.6228\n",
      "Epoch 69/75\n",
      "270/270 [==============================] - 0s 134us/sample - loss: 4.8831 - mse: 4.8831 - mae: 1.5852 - val_loss: 15.4696 - val_mse: 15.4696 - val_mae: 2.6073\n",
      "Epoch 70/75\n",
      "270/270 [==============================] - 0s 133us/sample - loss: 4.8652 - mse: 4.8652 - mae: 1.6144 - val_loss: 15.3179 - val_mse: 15.3179 - val_mae: 2.5876\n",
      "Epoch 71/75\n",
      "270/270 [==============================] - 0s 136us/sample - loss: 4.7725 - mse: 4.7725 - mae: 1.5777 - val_loss: 15.2789 - val_mse: 15.2789 - val_mae: 2.5721\n",
      "Epoch 72/75\n",
      "270/270 [==============================] - 0s 141us/sample - loss: 4.8610 - mse: 4.8610 - mae: 1.6307 - val_loss: 15.3939 - val_mse: 15.3939 - val_mae: 2.5870\n",
      "Epoch 73/75\n",
      "270/270 [==============================] - 0s 133us/sample - loss: 4.6055 - mse: 4.6055 - mae: 1.5595 - val_loss: 15.3039 - val_mse: 15.3039 - val_mae: 2.6063\n",
      "Epoch 74/75\n",
      "270/270 [==============================] - 0s 137us/sample - loss: 4.5960 - mse: 4.5960 - mae: 1.5539 - val_loss: 15.2807 - val_mse: 15.2807 - val_mae: 2.6244\n",
      "Epoch 75/75\n",
      "270/270 [==============================] - 0s 138us/sample - loss: 4.6311 - mse: 4.6311 - mae: 1.5701 - val_loss: 15.6619 - val_mse: 15.6619 - val_mae: 2.6187\n"
     ]
    },
    {
     "data": {
      "text/plain": [
       "<tensorflow.python.keras.callbacks.History at 0x7fbc32196a50>"
      ]
     },
     "execution_count": 43,
     "metadata": {},
     "output_type": "execute_result"
    }
   ],
   "source": [
    "from tensorflow import keras\n",
    "from tensorflow.keras.models import Sequential\n",
    "from tensorflow.keras.layers import Dense\n",
    "\n",
    "# Important hyperparameters\n",
    "inputs = x_train.shape[1]\n",
    "epochs = 75\n",
    "#batch_size = 10\n",
    "\n",
    "model = Sequential()\n",
    "model.add(Dense(64, activation='relu', input_shape=(inputs,)))\n",
    "model.add(Dense(64, activation='relu'))\n",
    "model.add(Dense(1))\n",
    "\n",
    "model.compile(optimizer='adam', loss='mse', metrics=['mse', 'mae'])\n",
    "\n",
    "model.fit(x_train, y_train,\n",
    "         epochs=epochs,\n",
    "         batch_size=batch_size,\n",
    "         validation_split=.33,\n",
    "         )"
   ]
  },
  {
   "cell_type": "markdown",
   "metadata": {
    "colab_type": "text",
    "id": "l6hgCWbir90R"
   },
   "source": [
    "### Model Validation using an automatic verification Dataset\n",
    "\n",
    "Instead of doing seperate train test split class, Keras has a really nice feature that you can set the validation.data argument when fitting your model and Keras will take that portion of your test data and use it as a validation dataset. "
   ]
  },
  {
   "cell_type": "markdown",
   "metadata": {
    "colab_type": "text",
    "id": "sYJ8t_ezHP4W"
   },
   "source": [
    "### Hyperparameter Tuning Approaches:\n",
    "\n",
    "#### 1) Babysitting AKA \"Grad Student Descent\".\n",
    "\n",
    "If you fiddled with any hyperparameters yesterday, this is basically what you did. This approach is 100% manual and is pretty common among researchers where finding that 1 exact specification that jumps your model to a level of accuracy never seen before is the difference between publishing and not publishing a paper. Of course the professors don't do this themselves, that's grunt work. This is also known as the fiddle with hyperparameters until you run out of time method.\n",
    "\n",
    "#### 2) Grid Search\n",
    "\n",
    "Grid Search is the Grad Student galaxy brain realization of: why don't I just specify all the experiments I want to run and let the computer try every possible combination of them while I go and grab lunch. This has a specific downside in that if I specify 5 hyperparameters with 5 options each then I've just created 5^5 combinations of hyperparameters to check. Which means that I have to train 3125 different versions of my model Then if I use 5-fold Cross Validation on that then my model has to run 15,525 times. This is the brute-force method of hyperparameter tuning, but it can be very profitable if done wisely. \n",
    "\n",
    "When using Grid Search here's what I suggest: don't use it to test combinations of different hyperparameters, only use it to test different specifications of **a single** hyperparameter. It's rare that combinations between different hyperparameters lead to big performance gains. You'll get 90-95% of the way there if you just Grid Search one parameter and take the best result, then retain that best result while you test another, and then retain the best specification from that while you train another. This at least makes the situation much more manageable and leads to pretty good results. \n",
    "\n",
    "#### 3) Random Search\n",
    "\n",
    "Do Grid Search for a couple of hours and you'll say to yourself - \"There's got to be a better way.\" Enter Random Search. For Random search you specify a hyperparameter space and it picks specifications from that randomly, tries them out, gives you the best results and says - That's going to have to be good enough, go home and spend time with your family. \n",
    "\n",
    "Grid Search treats every parameter as if it was equally important, but this just isn't the case, some are known to move the needle a lot more than others (we'll talk about that in a minute). Random Search allows searching to be specified along the most important parameter and experiments less along the dimensions of less important hyperparameters. The downside of Random search is that it won't find the absolute best hyperparameters, but it is much less costly to perform than Grid Search. \n",
    "\n",
    "#### 4) Bayesian Methods\n",
    "\n",
    "One thing that can make more manual methods like babysitting and gridsearch effective is that as the experimenter sees results he can then make updates to his future searches taking into account the results of past specifications. If only we could hyperparameter tune our hyperparameter tuning. Well, we kind of can. Enter Bayesian Optimization. Neural Networks are like an optimization problem within an optimization problem, and Bayesian Optimization is a search strategy that tries to take into account the results of past searches in order to improve future ones. This is the most advanced method but can be a little bit tricky to implement, but there are some early steps with `hyperas` which is Bayesian optimization wrapper for `keras`. "
   ]
  },
  {
   "cell_type": "markdown",
   "metadata": {
    "colab_type": "text",
    "id": "HfQ7D043OMMn"
   },
   "source": [
    "## What Hyperparameters are there to test?\n",
    "\n",
    "- batch_size\n",
    "- optimization algorithms\n",
    "- learning rate\n",
    "- momentum\n",
    "- activation functions\n",
    "- dropout regularization\n",
    "- number of neurons in the hidden layer\n",
    "\n",
    "There are more, but these are the most important."
   ]
  },
  {
   "cell_type": "markdown",
   "metadata": {},
   "source": [
    "## Follow Along"
   ]
  },
  {
   "cell_type": "markdown",
   "metadata": {
    "colab_type": "text",
    "id": "Mri5-kXzVKAa"
   },
   "source": [
    "## Batch Size\n",
    "\n",
    "Batch size determines how many observations the model is shown before it calculates loss/error and updates the model weights via gradient descent. You're looking for a sweet spot here where you're showing it enough observations that you have enough information to updates the weights, but not such a large batch size that you don't get a lot of weight update iterations performed in a given epoch. Feed-forward Neural Networks aren't as sensitive to bach_size as other networks, but it is still an important hyperparameter to tune. Smaller batch sizes will also take longer to train. "
   ]
  },
  {
   "cell_type": "code",
   "execution_count": 30,
   "metadata": {
    "colab": {
     "base_uri": "https://localhost:8080/",
     "height": 13561
    },
    "colab_type": "code",
    "id": "2smXfriNAGn7",
    "outputId": "ae996575-78e2-43fb-9dbe-5d44aaf0b430"
   },
   "outputs": [
    {
     "name": "stdout",
     "output_type": "stream",
     "text": [
      "Best: 0.6392496466636658 using {'batch_size': 20, 'epochs': 20}\n",
      "Means: 0.625040328502655, Stdev: 0.06019328299973253 with: {'batch_size': 10, 'epochs': 20}\n",
      "Means: 0.6392496466636658, Stdev: 0.02842616924046008 with: {'batch_size': 20, 'epochs': 20}\n",
      "Means: 0.5988710641860961, Stdev: 0.04178647998966942 with: {'batch_size': 40, 'epochs': 20}\n",
      "Means: 0.6055173635482788, Stdev: 0.03429933461681777 with: {'batch_size': 60, 'epochs': 20}\n",
      "Means: 0.5924115300178527, Stdev: 0.04903764790818857 with: {'batch_size': 80, 'epochs': 20}\n",
      "Means: 0.5167812526226043, Stdev: 0.07126065548205084 with: {'batch_size': 100, 'epochs': 20}\n"
     ]
    }
   ],
   "source": [
    "import numpy\n",
    "import pandas as pd\n",
    "from sklearn.model_selection import GridSearchCV\n",
    "from tensorflow.keras.models import Sequential\n",
    "from tensorflow.keras.layers import Dense\n",
    "from tensorflow.keras.wrappers.scikit_learn import KerasClassifier\n",
    "\n",
    "# fix random seed for reproducibility\n",
    "seed = 7\n",
    "numpy.random.seed(seed)\n",
    "\n",
    "# load dataset\n",
    "url =\"https://raw.githubusercontent.com/jbrownlee/Datasets/master/pima-indians-diabetes.data.csv\"\n",
    "\n",
    "dataset = pd.read_csv(url, header=None).values\n",
    "\n",
    "# split into input (X) and output (Y) variables\n",
    "X = dataset[:,0:8]\n",
    "Y = dataset[:,8]\n",
    "\n",
    "# Function to create model, required for KerasClassifier\n",
    "def create_model():\n",
    "    # create model\n",
    "    model = Sequential()\n",
    "    model.add(Dense(12, input_dim=8, activation='relu'))\n",
    "    model.add(Dense(1, activation='sigmoid'))\n",
    "    # Compile model\n",
    "    model.compile(loss='binary_crossentropy', optimizer='adam', metrics=['accuracy'])\n",
    "    return model\n",
    "\n",
    "# create model\n",
    "model = KerasClassifier(build_fn=create_model, verbose=0)\n",
    "\n",
    "# define the grid search parameters\n",
    "# batch_size = [10, 20, 40, 60, 80, 100]\n",
    "# param_grid = dict(batch_size=batch_size, epochs=epochs)\n",
    "\n",
    "# define the grid search parameters\n",
    "param_grid = {'batch_size': [10, 20, 40, 60, 80, 100],\n",
    "              'epochs': [20]}\n",
    "\n",
    "# Create Grid Search\n",
    "grid = GridSearchCV(estimator=model, param_grid=param_grid, n_jobs=5)\n",
    "grid_result = grid.fit(X, Y)\n",
    "\n",
    "# Report Results\n",
    "print(f\"Best: {grid_result.best_score_} using {grid_result.best_params_}\")\n",
    "means = grid_result.cv_results_['mean_test_score']\n",
    "stds = grid_result.cv_results_['std_test_score']\n",
    "params = grid_result.cv_results_['params']\n",
    "for mean, stdev, param in zip(means, stds, params):\n",
    "    print(f\"Means: {mean}, Stdev: {stdev} with: {param}\") "
   ]
  },
  {
   "cell_type": "markdown",
   "metadata": {
    "colab_type": "text",
    "id": "EKcuY6OiaLfz"
   },
   "source": [
    "## Optimizer\n",
    "\n",
    "Remember that there's a different optimizers [optimizers](https://keras.io/optimizers/). At some point, take some time to read up on them a little bit. \"adam\" usually gives the best results. The thing to know about choosing an optimizer is that different optimizers have different hyperparameters like learning rate, momentum, etc. So based on the optimizer you choose you might also have to tune the learning rate and momentum of those optimizers after that. "
   ]
  },
  {
   "cell_type": "code",
   "execution_count": 31,
   "metadata": {},
   "outputs": [],
   "source": [
    "from tensorflow.keras.callbacks import EarlyStopping\n",
    "\n",
    "stop = EarlyStopping(monitor='accuracy', min_delta=.01)"
   ]
  },
  {
   "cell_type": "code",
   "execution_count": 37,
   "metadata": {},
   "outputs": [
    {
     "name": "stdout",
     "output_type": "stream",
     "text": [
      "Best: 0.6445972323417664 using {'batch_size': 20, 'epochs': 99, 'optimizer': 'sgd'}\n",
      "Means: 0.5626092970371246, Stdev: 0.0775694628870308 with: {'batch_size': 20, 'epochs': 99, 'optimizer': 'adam'}\n",
      "Means: 0.5494779765605926, Stdev: 0.06380241787302415 with: {'batch_size': 20, 'epochs': 99, 'optimizer': 'nadam'}\n",
      "Means: 0.6445972323417664, Stdev: 0.02665330151220225 with: {'batch_size': 20, 'epochs': 99, 'optimizer': 'sgd'}\n",
      "Means: 0.5705288290977478, Stdev: 0.11267370081005273 with: {'batch_size': 20, 'epochs': 99, 'optimizer': 'adadelta'}\n",
      "Means: 0.51437908411026, Stdev: 0.09438424451681103 with: {'batch_size': 20, 'epochs': 99, 'optimizer': 'adagrad'}\n"
     ]
    }
   ],
   "source": [
    "# Function to create model, required for KerasClassifier\n",
    "def create_model(optimizer='adam'):\n",
    "    # create model\n",
    "    model = Sequential()\n",
    "    model.add(Dense(12, input_dim=8, activation='relu'))\n",
    "    model.add(Dense(1, activation='sigmoid'))\n",
    "    # Compile model\n",
    "    model.compile(loss='binary_crossentropy', optimizer=optimizer, metrics=['accuracy'])\n",
    "    return model\n",
    "\n",
    "# create model\n",
    "model = KerasClassifier(build_fn=create_model, verbose=0)\n",
    "\n",
    "# define the grid search parameters\n",
    "# batch_size = [10, 20, 40, 60, 80, 100]\n",
    "# param_grid = dict(batch_size=batch_size, epochs=epochs)\n",
    "\n",
    "# define the grid search parameters\n",
    "param_grid = {'batch_size': [20],\n",
    "              'optimizer': ['adam', 'nadam', 'sgd', 'adadelta', 'adagrad'],\n",
    "              'epochs':[99]\n",
    "              }\n",
    "\n",
    "# Create Grid Search\n",
    "grid = GridSearchCV(estimator=model, param_grid=param_grid, n_jobs=1)\n",
    "grid_result = grid.fit(X, Y, callbacks=[stop])\n",
    "\n",
    "# Report Results\n",
    "print(f\"Best: {grid_result.best_score_} using {grid_result.best_params_}\")\n",
    "means = grid_result.cv_results_['mean_test_score']\n",
    "stds = grid_result.cv_results_['std_test_score']\n",
    "params = grid_result.cv_results_['params']\n",
    "for mean, stdev, param in zip(means, stds, params):\n",
    "    print(f\"Means: {mean}, Stdev: {stdev} with: {param}\")"
   ]
  },
  {
   "cell_type": "markdown",
   "metadata": {
    "colab_type": "text",
    "id": "DG3wq5iOaLig"
   },
   "source": [
    "## Learning Rate\n",
    "\n",
    "Remember that the Learning Rate is a hyperparameter that is specific to your gradient-descent based optimizer selection. A learning rate that is too high will cause divergent behavior, but a Learning Rate that is too low will fail to converge, again, you're looking for the sweet spot. I would start out tuning learning rates by orders of magnitude: [.001, .01, .1, .2, .3, .5] etc. I wouldn't go above .5, but you can try it and see what the behavior is like. \n",
    "\n",
    "Once you have narrowed it down, make the window even smaller and try it again. If after running the above specification your model reports that .1 is the best optimizer, then you should probably try things like [.05, .08, .1, .12, .15] to try and narrow it down. \n",
    "\n",
    "It can also be good to tune the number of epochs in combination with the learning rate since the number of iterations that you allow the learning rate to reach the minimum can determine if you have let it run long enough to converge to the minimum. "
   ]
  },
  {
   "cell_type": "markdown",
   "metadata": {
    "colab_type": "text",
    "id": "gNTBUWd1aLlA"
   },
   "source": [
    "## Momentum\n",
    "\n",
    "Momentum is a hyperparameter that is more commonly associated with Stochastic Gradient Descent. SGD is a common optimizer because it's what people understand and know, but I doubt it will get you the best results, you can try hyperparameter tuning its attributes and see if you can beat the performance from adam. Momentum is a property that decides the willingness of an optimizer to overshoot the minimum. Imagine a ball rolling down one side of a bowl and then up the opposite side a little bit before settling back to the bottom. The purpose of momentum is to try and escale local minima."
   ]
  },
  {
   "cell_type": "markdown",
   "metadata": {
    "colab_type": "text",
    "id": "xnEG-bCJaLnZ"
   },
   "source": [
    "## Activation Functions\n",
    "\n",
    "We've talked about this a little bit, typically you'l want to use ReLU for hidden layers and either Sigmoid, or Softmax for output layers of binary and multi-class classification implementations respectively, but try other activation functions and see if you can get any better results with sigmoid or tanh or something. There are a lot of activation functions that we haven't really talked about. Maybe you'll get good results with them. Maybe you won't. :) <https://keras.io/activations/>"
   ]
  },
  {
   "cell_type": "markdown",
   "metadata": {
    "colab_type": "text",
    "id": "oul9sPq-dU-h"
   },
   "source": [
    "## Network Weight Initialization\n",
    "\n",
    "You saw how big of an effect the way that we initialize our network's weights can have on our results. There are **a lot** of what are called initialization modes. I don't understand all of them, but they can have a big affect on your model's initial accuracy. Your model will get further with less epochs if you initialize it with weights that are well suited to the problem you're trying to solve.\n",
    "\n",
    "`init_mode = ['uniform', 'lecun_uniform', 'normal', 'zero', 'glorot_normal', 'glorot_uniform', 'he_normal', 'he_uniform']`"
   ]
  },
  {
   "cell_type": "markdown",
   "metadata": {
    "colab_type": "text",
    "id": "bqtEuxeQaLqE"
   },
   "source": [
    "## Dropout Regularization and the Weight Constraint\n",
    "\n",
    "the Dropout Regularization value is a percentage of neurons that you want to be randomly deactivated during training. The weight constraint is a second regularization parameter that works in tandem with dropout regularization. You should tune these two values at the same time. \n",
    "\n",
    "Using dropout on visible vs hidden layers might have a different effect. Using dropout on hidden layers might not have any effect while using dropout on hidden layers might have a substantial effect. You don't necessarily need to turn use dropout unless you see that your model has overfitting and generalizability problems."
   ]
  },
  {
   "cell_type": "markdown",
   "metadata": {
    "colab_type": "text",
    "id": "P2c5Cv6oaLtO"
   },
   "source": [
    "## Neurons in Hidden Layer \n",
    "\n",
    "Remember that when we only had a single perceptron our model was only able to fit to linearly separable data, but as we have added layers and nodes to those layers our network has become a powerhouse of fitting nonlinearity in data. The larger the network and the more nodes generally the stronger the network's capacity to fit nonlinear patterns in data. The more nodes and layers the longer it will take to train a network, and higher the probability of overfitting. The larger your network gets the more you'll need dropout regularization or other regularization techniques to keep it in check. \n",
    "\n",
    "Typically depth (more layers) is more important than width (more nodes) for neural networks. This is part of why Deep Learning is so highly touted. Certain deep learning architectures have truly been huge breakthroughs for certain machine learning tasks. \n",
    "\n",
    "You might borrow ideas from other network architectures. For example if I was doing image recognition and I wasn't taking cues from state of the art architectures like resnet, alexnet, googlenet, etc. Then I'm probably going to have to do a lot more experimentation on my own before I find something that works.\n",
    "\n",
    "There are some heuristics, but I am highly skeptical of them. I think you're better off experimenting on your own and forming your own intuition for these kinds of problems. \n",
    "\n",
    "- https://machinelearningmastery.com/how-to-configure-the-number-of-layers-and-nodes-in-a-neural-network/"
   ]
  },
  {
   "cell_type": "markdown",
   "metadata": {},
   "source": [
    "## Challenge\n",
    "You will be expected to tune several hyperparameters in today's module project. "
   ]
  },
  {
   "cell_type": "markdown",
   "metadata": {},
   "source": [
    "# Experiment Tracking Framework (Learn)\n",
    "<a id=\"p2\"></a>"
   ]
  },
  {
   "cell_type": "markdown",
   "metadata": {},
   "source": [
    "## Overview\n",
    "\n",
    "You will notice quickly that managing the results of all the experiments you are running becomes challenging. Which set of parameters did the best? Are my results today different than my results yesterday? Although we use Ipython Notebooks to work, the format is not well suited to logging experimental results. Enter experiment tracking frameworks like [Comet.ml](https://comet.ml) and [Weights and Biases](https://wandb.ai/).\n",
    "\n",
    "Those tools will help you track your experiments, store the results, and the code associated with those experiments. Experimental results can also be readily visualized to see changes in performance across any metric you care about. Data is sent to the tool as each epoch is completed, so you can also see if your model is converging. Let's check out Weights & Biases today. "
   ]
  },
  {
   "cell_type": "markdown",
   "metadata": {},
   "source": [
    "## Follow Along\n",
    "\n",
    "Make sure you login into `wandb` in the terminal before running the next cell. "
   ]
  },
  {
   "cell_type": "code",
   "execution_count": 38,
   "metadata": {},
   "outputs": [],
   "source": [
    "import wandb\n",
    "from wandb.keras import WandbCallback"
   ]
  },
  {
   "cell_type": "code",
   "execution_count": 41,
   "metadata": {
    "colab": {
     "base_uri": "https://localhost:8080/",
     "height": 1750
    },
    "colab_type": "code",
    "id": "GMXVfmzXp1Oo",
    "outputId": "b05e251e-508f-46e6-865b-f869ae2a5dc4"
   },
   "outputs": [
    {
     "data": {
      "text/html": [
       "\n",
       "                Logging results to <a href=\"https://wandb.com\" target=\"_blank\">Weights & Biases</a> <a href=\"https://docs.wandb.com/integrations/jupyter.html\" target=\"_blank\">(Documentation)</a>.<br/>\n",
       "                Project page: <a href=\"https://app.wandb.ai/ds8/ds11_inclass\" target=\"_blank\">https://app.wandb.ai/ds8/ds11_inclass</a><br/>\n",
       "                Run page: <a href=\"https://app.wandb.ai/ds8/ds11_inclass/runs/jxek5zc7\" target=\"_blank\">https://app.wandb.ai/ds8/ds11_inclass/runs/jxek5zc7</a><br/>\n",
       "            "
      ],
      "text/plain": [
       "<IPython.core.display.HTML object>"
      ]
     },
     "metadata": {},
     "output_type": "display_data"
    },
    {
     "name": "stderr",
     "output_type": "stream",
     "text": [
      "Failed to query for notebook name, you can set it manually with the WANDB_NOTEBOOK_NAME environment variable\n",
      "wandb: Wandb version 0.8.29 is available!  To upgrade, please run:\n",
      "wandb:  $ pip install wandb --upgrade\n"
     ]
    },
    {
     "name": "stdout",
     "output_type": "stream",
     "text": [
      "Train on 270 samples, validate on 134 samples\n",
      "Epoch 1/50\n",
      "270/270 [==============================] - 0s 2ms/sample - loss: 497.6161 - mse: 497.6161 - mae: 20.4947 - val_loss: 483.5898 - val_mse: 483.5898 - val_mae: 19.7016\n",
      "Epoch 2/50\n",
      "270/270 [==============================] - 0s 259us/sample - loss: 244.7724 - mse: 244.7724 - mae: 13.1114 - val_loss: 138.5352 - val_mse: 138.5352 - val_mae: 9.1536\n",
      "Epoch 3/50\n",
      "270/270 [==============================] - 0s 293us/sample - loss: 70.8182 - mse: 70.8182 - mae: 6.3734 - val_loss: 71.5541 - val_mse: 71.5541 - val_mae: 6.3124\n",
      "Epoch 4/50\n",
      "270/270 [==============================] - 0s 297us/sample - loss: 36.2927 - mse: 36.2927 - mae: 4.4677 - val_loss: 41.1744 - val_mse: 41.1744 - val_mae: 4.4224\n",
      "Epoch 5/50\n",
      "270/270 [==============================] - 0s 253us/sample - loss: 21.0838 - mse: 21.0838 - mae: 3.3921 - val_loss: 29.7658 - val_mse: 29.7658 - val_mae: 3.5145\n",
      "Epoch 6/50\n",
      "270/270 [==============================] - 0s 255us/sample - loss: 16.4525 - mse: 16.4525 - mae: 2.9459 - val_loss: 25.5482 - val_mse: 25.5482 - val_mae: 3.1160\n",
      "Epoch 7/50\n",
      "270/270 [==============================] - 0s 256us/sample - loss: 13.6254 - mse: 13.6254 - mae: 2.6365 - val_loss: 22.4484 - val_mse: 22.4484 - val_mae: 3.0049\n",
      "Epoch 8/50\n",
      "270/270 [==============================] - 0s 178us/sample - loss: 12.1381 - mse: 12.1381 - mae: 2.6286 - val_loss: 22.7260 - val_mse: 22.7260 - val_mae: 2.9167\n",
      "Epoch 9/50\n",
      "270/270 [==============================] - 0s 238us/sample - loss: 11.2600 - mse: 11.2600 - mae: 2.4499 - val_loss: 20.8002 - val_mse: 20.8002 - val_mae: 2.8710\n",
      "Epoch 10/50\n",
      "270/270 [==============================] - 0s 239us/sample - loss: 10.5636 - mse: 10.5636 - mae: 2.4551 - val_loss: 21.4984 - val_mse: 21.4984 - val_mae: 2.8350\n",
      "Epoch 11/50\n",
      "270/270 [==============================] - 0s 272us/sample - loss: 10.1666 - mse: 10.1666 - mae: 2.3636 - val_loss: 19.1910 - val_mse: 19.1910 - val_mae: 2.8383\n",
      "Epoch 12/50\n",
      "270/270 [==============================] - 0s 266us/sample - loss: 9.1660 - mse: 9.1660 - mae: 2.2622 - val_loss: 19.0980 - val_mse: 19.0981 - val_mae: 2.7788\n",
      "Epoch 13/50\n",
      "270/270 [==============================] - 0s 283us/sample - loss: 8.9303 - mse: 8.9303 - mae: 2.2629 - val_loss: 18.6603 - val_mse: 18.6603 - val_mae: 2.8443\n",
      "Epoch 14/50\n",
      "270/270 [==============================] - 0s 277us/sample - loss: 8.6880 - mse: 8.6880 - mae: 2.2428 - val_loss: 18.5683 - val_mse: 18.5683 - val_mae: 2.7396\n",
      "Epoch 15/50\n",
      "270/270 [==============================] - 0s 266us/sample - loss: 8.4457 - mse: 8.4457 - mae: 2.2038 - val_loss: 18.4053 - val_mse: 18.4053 - val_mae: 2.7604\n",
      "Epoch 16/50\n",
      "270/270 [==============================] - 0s 202us/sample - loss: 7.9844 - mse: 7.9844 - mae: 2.1468 - val_loss: 18.6133 - val_mse: 18.6133 - val_mae: 2.7594\n",
      "Epoch 17/50\n",
      "270/270 [==============================] - 0s 249us/sample - loss: 7.8191 - mse: 7.8191 - mae: 2.1159 - val_loss: 17.9227 - val_mse: 17.9227 - val_mae: 2.6999\n",
      "Epoch 18/50\n",
      "270/270 [==============================] - 0s 291us/sample - loss: 7.6992 - mse: 7.6992 - mae: 2.0807 - val_loss: 17.4203 - val_mse: 17.4203 - val_mae: 2.7193\n",
      "Epoch 19/50\n",
      "270/270 [==============================] - 0s 200us/sample - loss: 7.4982 - mse: 7.4982 - mae: 2.0665 - val_loss: 17.4843 - val_mse: 17.4843 - val_mae: 2.7446\n",
      "Epoch 20/50\n",
      "270/270 [==============================] - 0s 205us/sample - loss: 7.5464 - mse: 7.5464 - mae: 2.0693 - val_loss: 17.9242 - val_mse: 17.9242 - val_mae: 2.7334\n",
      "Epoch 21/50\n",
      "270/270 [==============================] - 0s 264us/sample - loss: 7.1001 - mse: 7.1001 - mae: 2.0222 - val_loss: 17.1053 - val_mse: 17.1053 - val_mae: 2.7007\n",
      "Epoch 22/50\n",
      "270/270 [==============================] - 0s 181us/sample - loss: 6.8716 - mse: 6.8716 - mae: 1.9791 - val_loss: 17.1433 - val_mse: 17.1433 - val_mae: 2.6729\n",
      "Epoch 23/50\n",
      "270/270 [==============================] - 0s 196us/sample - loss: 6.7016 - mse: 6.7016 - mae: 1.9148 - val_loss: 17.7120 - val_mse: 17.7120 - val_mae: 2.7563\n",
      "Epoch 24/50\n",
      "270/270 [==============================] - 0s 251us/sample - loss: 6.7066 - mse: 6.7066 - mae: 1.9453 - val_loss: 16.8321 - val_mse: 16.8321 - val_mae: 2.7156\n",
      "Epoch 25/50\n",
      "270/270 [==============================] - 0s 273us/sample - loss: 6.6370 - mse: 6.6370 - mae: 1.9385 - val_loss: 16.5727 - val_mse: 16.5727 - val_mae: 2.6579\n",
      "Epoch 26/50\n",
      "270/270 [==============================] - 0s 196us/sample - loss: 6.4021 - mse: 6.4021 - mae: 1.8883 - val_loss: 16.8739 - val_mse: 16.8739 - val_mae: 2.7381\n",
      "Epoch 27/50\n",
      "270/270 [==============================] - 0s 242us/sample - loss: 6.3163 - mse: 6.3163 - mae: 1.8776 - val_loss: 16.3706 - val_mse: 16.3706 - val_mae: 2.6769\n",
      "Epoch 28/50\n",
      "270/270 [==============================] - 0s 203us/sample - loss: 5.8432 - mse: 5.8432 - mae: 1.8008 - val_loss: 16.6902 - val_mse: 16.6902 - val_mae: 2.6524\n",
      "Epoch 29/50\n",
      "270/270 [==============================] - 0s 242us/sample - loss: 5.8749 - mse: 5.8749 - mae: 1.7926 - val_loss: 17.4354 - val_mse: 17.4354 - val_mae: 2.7651\n",
      "Epoch 30/50\n",
      "270/270 [==============================] - 0s 251us/sample - loss: 5.5621 - mse: 5.5621 - mae: 1.7364 - val_loss: 16.7049 - val_mse: 16.7049 - val_mae: 2.7582\n",
      "Epoch 31/50\n",
      "270/270 [==============================] - 0s 256us/sample - loss: 6.0763 - mse: 6.0763 - mae: 1.8381 - val_loss: 16.4954 - val_mse: 16.4954 - val_mae: 2.7273\n",
      "Epoch 32/50\n",
      "270/270 [==============================] - 0s 207us/sample - loss: 5.3660 - mse: 5.3660 - mae: 1.7636 - val_loss: 16.7300 - val_mse: 16.7300 - val_mae: 2.7185\n",
      "Epoch 33/50\n",
      "270/270 [==============================] - 0s 219us/sample - loss: 5.5274 - mse: 5.5274 - mae: 1.6953 - val_loss: 16.6439 - val_mse: 16.6439 - val_mae: 2.6562\n",
      "Epoch 34/50\n",
      "270/270 [==============================] - 0s 291us/sample - loss: 5.3389 - mse: 5.3389 - mae: 1.7313 - val_loss: 15.9898 - val_mse: 15.9898 - val_mae: 2.6270\n",
      "Epoch 35/50\n",
      "270/270 [==============================] - 0s 195us/sample - loss: 5.0817 - mse: 5.0817 - mae: 1.6628 - val_loss: 16.0470 - val_mse: 16.0470 - val_mae: 2.6832\n",
      "Epoch 36/50\n",
      "270/270 [==============================] - 0s 212us/sample - loss: 5.4253 - mse: 5.4253 - mae: 1.7300 - val_loss: 16.8537 - val_mse: 16.8537 - val_mae: 2.7298\n",
      "Epoch 37/50\n",
      "270/270 [==============================] - 0s 205us/sample - loss: 5.3602 - mse: 5.3602 - mae: 1.7231 - val_loss: 16.4152 - val_mse: 16.4152 - val_mae: 2.6397\n",
      "Epoch 38/50\n",
      "270/270 [==============================] - 0s 184us/sample - loss: 4.8162 - mse: 4.8162 - mae: 1.5920 - val_loss: 16.3577 - val_mse: 16.3577 - val_mae: 2.7203\n",
      "Epoch 39/50\n",
      "270/270 [==============================] - 0s 177us/sample - loss: 4.8493 - mse: 4.8493 - mae: 1.6253 - val_loss: 16.9211 - val_mse: 16.9211 - val_mae: 2.7851\n",
      "Epoch 40/50\n",
      "270/270 [==============================] - 0s 161us/sample - loss: 4.9532 - mse: 4.9532 - mae: 1.6587 - val_loss: 16.0158 - val_mse: 16.0158 - val_mae: 2.7007\n",
      "Epoch 41/50\n",
      "270/270 [==============================] - 0s 169us/sample - loss: 4.5114 - mse: 4.5114 - mae: 1.5884 - val_loss: 16.0203 - val_mse: 16.0203 - val_mae: 2.6554\n",
      "Epoch 42/50\n",
      "270/270 [==============================] - 0s 159us/sample - loss: 4.4172 - mse: 4.4172 - mae: 1.5398 - val_loss: 16.3022 - val_mse: 16.3022 - val_mae: 2.6853\n",
      "Epoch 43/50\n",
      "270/270 [==============================] - 0s 228us/sample - loss: 4.4654 - mse: 4.4654 - mae: 1.5658 - val_loss: 15.8291 - val_mse: 15.8291 - val_mae: 2.6449\n",
      "Epoch 44/50\n",
      "270/270 [==============================] - 0s 194us/sample - loss: 4.3435 - mse: 4.3435 - mae: 1.5457 - val_loss: 16.3409 - val_mse: 16.3409 - val_mae: 2.7018\n",
      "Epoch 45/50\n",
      "270/270 [==============================] - 0s 166us/sample - loss: 3.9739 - mse: 3.9739 - mae: 1.4756 - val_loss: 16.1142 - val_mse: 16.1142 - val_mae: 2.7033\n",
      "Epoch 46/50\n",
      "270/270 [==============================] - 0s 160us/sample - loss: 4.1300 - mse: 4.1300 - mae: 1.5126 - val_loss: 16.0323 - val_mse: 16.0323 - val_mae: 2.6867\n",
      "Epoch 47/50\n",
      "270/270 [==============================] - 0s 144us/sample - loss: 4.2549 - mse: 4.2549 - mae: 1.5294 - val_loss: 16.0533 - val_mse: 16.0533 - val_mae: 2.6957\n",
      "Epoch 48/50\n",
      "270/270 [==============================] - 0s 131us/sample - loss: 4.7778 - mse: 4.7778 - mae: 1.6340 - val_loss: 16.8857 - val_mse: 16.8857 - val_mae: 2.7583\n",
      "Epoch 49/50\n",
      "270/270 [==============================] - 0s 157us/sample - loss: 4.7355 - mse: 4.7355 - mae: 1.6276 - val_loss: 15.9648 - val_mse: 15.9648 - val_mae: 2.6644\n",
      "Epoch 50/50\n",
      "270/270 [==============================] - 0s 178us/sample - loss: 4.1040 - mse: 4.1040 - mae: 1.5282 - val_loss: 17.0170 - val_mse: 17.0170 - val_mae: 2.7540\n"
     ]
    },
    {
     "data": {
      "text/plain": [
       "<tensorflow.python.keras.callbacks.History at 0x7fbbfa902ad0>"
      ]
     },
     "execution_count": 41,
     "metadata": {},
     "output_type": "execute_result"
    }
   ],
   "source": [
    "#Initializes and Experiment\n",
    "wandb_project = 'ds11_inclass'\n",
    "wandb_group = \"ds8\"\n",
    "\n",
    "wandb.init(project=wandb_project, entity=wandb_group)\n",
    "\n",
    "# Important Hyperparameters\n",
    "X =  x_train\n",
    "y =  y_train\n",
    "\n",
    "inputs = X.shape[1]\n",
    "wandb.config.epochs = 50\n",
    "wandb.config.batch_size = 10\n",
    "\n",
    "# Create Model\n",
    "model = Sequential()\n",
    "model.add(Dense(64, activation='relu', input_shape=(inputs,)))\n",
    "model.add(Dense(64, activation='relu'))\n",
    "model.add(Dense(64, activation='relu'))\n",
    "model.add(Dense(1))\n",
    "# Compile Model\n",
    "model.compile(optimizer=, loss='mse', metrics=['mse', 'mae'])\n",
    "\n",
    "# Fit Model\n",
    "model.fit(X, y, \n",
    "          validation_split=0.33, \n",
    "          epochs=wandb.config.epochs, \n",
    "          batch_size=wandb.config.batch_size, \n",
    "          callbacks=[WandbCallback()]\n",
    "         )"
   ]
  },
  {
   "cell_type": "markdown",
   "metadata": {},
   "source": [
    "## Challenge\n",
    "\n",
    "You will be expected to use Weights & Biases to try to tune your model during your module assignment today. "
   ]
  },
  {
   "cell_type": "markdown",
   "metadata": {},
   "source": [
    "## Challenge\n",
    "\n",
    "Try to apply RandomSearchCV to your module project today. "
   ]
  },
  {
   "cell_type": "markdown",
   "metadata": {},
   "source": [
    "# Review\n",
    "* <a href=\"#p1\">Part 1</a>: Describe the major hyperparemeters to tune\n",
    "    - Activation Functions\n",
    "    - Optimizer\n",
    "    - Number of Layers\n",
    "    - Number of Neurons\n",
    "    - Batch Size\n",
    "    - Dropout Regulaization\n",
    "    - Learning Rate\n",
    "    - Number of Epochs\n",
    "    - and many more\n",
    "* <a href=\"#p2\">Part 2</a>: Implement an experiment tracking framework\n",
    "    - Weights & Biases\n",
    "    - Comet.ml\n",
    "    - By Hand / GridSearch\n",
    "* <a href=\"#p3\">Optional</a>: Discuss emerging hyperparameter tuning strategies\n",
    "    - Bayesian Optimization\n",
    "    - Hyperopt\n",
    "    - Genetic Evolution"
   ]
  },
  {
   "cell_type": "markdown",
   "metadata": {},
   "source": [
    "# Sources"
   ]
  },
  {
   "cell_type": "markdown",
   "metadata": {},
   "source": [
    "## Additional Reading\n",
    "- https://machinelearningmastery.com/grid-search-hyperparameters-deep-learning-models-python-keras/\n",
    "- https://blog.floydhub.com/guide-to-hyperparameters-search-for-deep-learning-models/\n",
    "- https://machinelearningmastery.com/dropout-regularization-deep-learning-models-keras/\n",
    "- https://machinelearningmastery.com/introduction-to-weight-constraints-to-reduce-generalization-error-in-deep-learning/\n",
    "- https://machinelearningmastery.com/how-to-configure-the-number-of-layers-and-nodes-in-a-neural-network/"
   ]
  }
 ],
 "metadata": {
  "kernelspec": {
   "display_name": "U4-S1-NN (Python3)",
   "language": "python",
   "name": "u4-s1-nn"
  },
  "language_info": {
   "codemirror_mode": {
    "name": "ipython",
    "version": 3
   },
   "file_extension": ".py",
   "mimetype": "text/x-python",
   "name": "python",
   "nbconvert_exporter": "python",
   "pygments_lexer": "ipython3",
   "version": "3.7.0"
  }
 },
 "nbformat": 4,
 "nbformat_minor": 4
}
